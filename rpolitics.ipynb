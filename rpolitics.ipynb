{
  "nbformat": 4,
  "nbformat_minor": 0,
  "metadata": {
    "colab": {
      "name": "rpolitics.ipynb",
      "version": "0.3.2",
      "provenance": [],
      "collapsed_sections": []
    },
    "kernelspec": {
      "name": "python3",
      "display_name": "Python 3"
    }
  },
  "cells": [
    {
      "metadata": {
        "id": "fhZdOrnp3mQ3",
        "colab_type": "text"
      },
      "cell_type": "markdown",
      "source": [
        "This project will analyze the top posts of the politics subreddit - namely, sentiment analysis of the titles and top comments, frequency of tokens in positive/negative titles, determine the top 10 used sources, and analysis of the relationship between the top comment score of a post and the post's total comments. This project utilizes the PRAW, pandas, matplotlib, seaborn, pprint, nltk, Counter and math libraries and creates a custom Comment class."
      ]
    },
    {
      "metadata": {
        "id": "6D8zGusl4giY",
        "colab_type": "text"
      },
      "cell_type": "markdown",
      "source": [
        "Because this project was done in Google Colaboratory, we first need to install PRAW. Because scatterplot is in the new seaborn version update, install seaborn as well."
      ]
    },
    {
      "metadata": {
        "id": "ShrQB48MoCdn",
        "colab_type": "code",
        "colab": {}
      },
      "cell_type": "code",
      "source": [
        "!pip install praw\n",
        "!pip install -U seaborn"
      ],
      "execution_count": 0,
      "outputs": []
    },
    {
      "metadata": {
        "id": "BBAyrGYMoNEt",
        "colab_type": "code",
        "colab": {}
      },
      "cell_type": "code",
      "source": [
        "import praw\n",
        "from pprint import pprint\n",
        "import pandas as pd\n",
        "import nltk\n",
        "nltk.download('vader_lexicon')\n",
        "nltk.download('stopwords')\n",
        "import matplotlib.pyplot as plt\n",
        "import seaborn as sns\n",
        "sns.set(style='darkgrid', context='talk', palette='Dark2')\n",
        "import math\n",
        "from collections import Counter"
      ],
      "execution_count": 0,
      "outputs": []
    },
    {
      "metadata": {
        "id": "Gyzbug3B5MWQ",
        "colab_type": "text"
      },
      "cell_type": "markdown",
      "source": [
        "First, connect to the reddit API via PRAW and iterate through all of the top posts of politics and add their titles and sources to a set of titles and sources respectively. "
      ]
    },
    {
      "metadata": {
        "id": "k8C7hPRl65SJ",
        "colab_type": "code",
        "outputId": "cfa73f67-fc60-46c7-b061-0d7316ee32e8",
        "colab": {
          "base_uri": "https://localhost:8080/",
          "height": 34
        }
      },
      "cell_type": "code",
      "source": [
        "reddit = praw.Reddit(client_id = 'CLIENT_ID',\n",
        "                     client_secret = 'CLIENT_SECRET',\n",
        "                     username='USERNAME',\n",
        "                     password='PASSWORD',\n",
        "                     user_agent='USER_AGENT')\n",
        "\n",
        "politics = reddit.subreddit('politics')\n",
        "top_posts = politics.top(limit=None)\n",
        "\n",
        "titles = set()\n",
        "sources = set()\n",
        "\n",
        "for post in top_posts:\n",
        "  titles.add(post.title)\n",
        "  sources.add(post.url)\n",
        "  \n",
        "print(len(titles))"
      ],
      "execution_count": 0,
      "outputs": [
        {
          "output_type": "stream",
          "text": [
            "998\n"
          ],
          "name": "stdout"
        }
      ]
    },
    {
      "metadata": {
        "id": "R5tXiRV554Ao",
        "colab_type": "text"
      },
      "cell_type": "markdown",
      "source": [
        "Utilizing the SentimentIntensityAnalyzer in nltk, for each of the titles, append each sentiment dictionary (polarity scores) to a results list."
      ]
    },
    {
      "metadata": {
        "id": "OR79l5S_7j6b",
        "colab_type": "code",
        "outputId": "e057bc34-8baa-4be1-b7df-9d6f71b3cb24",
        "colab": {
          "base_uri": "https://localhost:8080/",
          "height": 269
        }
      },
      "cell_type": "code",
      "source": [
        "from nltk.sentiment.vader import SentimentIntensityAnalyzer as SIA\n",
        "\n",
        "sia = SIA()\n",
        "results = []\n",
        "\n",
        "for line in titles:\n",
        "    pol_score = sia.polarity_scores(line)\n",
        "    pol_score['title'] = line\n",
        "    results.append(pol_score)\n",
        "\n",
        "pprint(results[:3], width=100)"
      ],
      "execution_count": 0,
      "outputs": [
        {
          "output_type": "stream",
          "text": [
            "[{'compound': -0.7906,\n",
            "  'neg': 0.467,\n",
            "  'neu': 0.533,\n",
            "  'pos': 0.0,\n",
            "  'title': \"Scarborough to Trump: 'Poor leadership' is golfing while Americans die\"},\n",
            " {'compound': 0.0,\n",
            "  'neg': 0.0,\n",
            "  'neu': 1.0,\n",
            "  'pos': 0.0,\n",
            "  'title': 'Poll: 78 Percent think Russian investigation should be independent'},\n",
            " {'compound': 0.0,\n",
            "  'neg': 0.0,\n",
            "  'neu': 1.0,\n",
            "  'pos': 0.0,\n",
            "  'title': 'Bill would keep Trump off 2020 ballot unless he releases his tax returns'}]\n"
          ],
          "name": "stdout"
        }
      ]
    },
    {
      "metadata": {
        "id": "4prOThHy6O17",
        "colab_type": "text"
      },
      "cell_type": "markdown",
      "source": [
        "Transform the results list into a pandas dataframe."
      ]
    },
    {
      "metadata": {
        "id": "xjdTE3-Q8Ff_",
        "colab_type": "code",
        "outputId": "0c9f98f8-66b4-4500-95a0-a988b9b8df20",
        "colab": {
          "base_uri": "https://localhost:8080/",
          "height": 195
        }
      },
      "cell_type": "code",
      "source": [
        "df_titles = pd.DataFrame.from_records(results)\n",
        "df_titles.head()"
      ],
      "execution_count": 0,
      "outputs": [
        {
          "output_type": "execute_result",
          "data": {
            "text/html": [
              "<div>\n",
              "<style scoped>\n",
              "    .dataframe tbody tr th:only-of-type {\n",
              "        vertical-align: middle;\n",
              "    }\n",
              "\n",
              "    .dataframe tbody tr th {\n",
              "        vertical-align: top;\n",
              "    }\n",
              "\n",
              "    .dataframe thead th {\n",
              "        text-align: right;\n",
              "    }\n",
              "</style>\n",
              "<table border=\"1\" class=\"dataframe\">\n",
              "  <thead>\n",
              "    <tr style=\"text-align: right;\">\n",
              "      <th></th>\n",
              "      <th>compound</th>\n",
              "      <th>neg</th>\n",
              "      <th>neu</th>\n",
              "      <th>pos</th>\n",
              "      <th>title</th>\n",
              "    </tr>\n",
              "  </thead>\n",
              "  <tbody>\n",
              "    <tr>\n",
              "      <th>0</th>\n",
              "      <td>0.0000</td>\n",
              "      <td>0.000</td>\n",
              "      <td>1.000</td>\n",
              "      <td>0.000</td>\n",
              "      <td>Rachel Maddow says she has Trump's tax returns</td>\n",
              "    </tr>\n",
              "    <tr>\n",
              "      <th>1</th>\n",
              "      <td>-0.5574</td>\n",
              "      <td>0.247</td>\n",
              "      <td>0.753</td>\n",
              "      <td>0.000</td>\n",
              "      <td>Trump fired Sally Yates the day she offered ev...</td>\n",
              "    </tr>\n",
              "    <tr>\n",
              "      <th>2</th>\n",
              "      <td>-0.2960</td>\n",
              "      <td>0.109</td>\n",
              "      <td>0.891</td>\n",
              "      <td>0.000</td>\n",
              "      <td>Brett Kavanaugh has been accused of sexual mis...</td>\n",
              "    </tr>\n",
              "    <tr>\n",
              "      <th>3</th>\n",
              "      <td>0.0000</td>\n",
              "      <td>0.000</td>\n",
              "      <td>1.000</td>\n",
              "      <td>0.000</td>\n",
              "      <td>Ted Nugent once said Obama should ‘suck on my ...</td>\n",
              "    </tr>\n",
              "    <tr>\n",
              "      <th>4</th>\n",
              "      <td>0.4939</td>\n",
              "      <td>0.000</td>\n",
              "      <td>0.758</td>\n",
              "      <td>0.242</td>\n",
              "      <td>Democrats save arts funding for NPR and PBS fr...</td>\n",
              "    </tr>\n",
              "  </tbody>\n",
              "</table>\n",
              "</div>"
            ],
            "text/plain": [
              "   compound    neg    neu    pos  \\\n",
              "0    0.0000  0.000  1.000  0.000   \n",
              "1   -0.5574  0.247  0.753  0.000   \n",
              "2   -0.2960  0.109  0.891  0.000   \n",
              "3    0.0000  0.000  1.000  0.000   \n",
              "4    0.4939  0.000  0.758  0.242   \n",
              "\n",
              "                                               title  \n",
              "0     Rachel Maddow says she has Trump's tax returns  \n",
              "1  Trump fired Sally Yates the day she offered ev...  \n",
              "2  Brett Kavanaugh has been accused of sexual mis...  \n",
              "3  Ted Nugent once said Obama should ‘suck on my ...  \n",
              "4  Democrats save arts funding for NPR and PBS fr...  "
            ]
          },
          "metadata": {
            "tags": []
          },
          "execution_count": 5
        }
      ]
    },
    {
      "metadata": {
        "id": "HqkPOVbj6Zsv",
        "colab_type": "text"
      },
      "cell_type": "markdown",
      "source": [
        "The compound value scores the sentiment and ranges from -1 (Extremely Negative) to 1 (Extremely Positive). For the purposes of this project, compound values greater than 0.2 will be labeled as positive (1) and values less than -0.2 as negative (-1). Posts that fall between -0.2 and 0.2 will be labeled as neutral (0)."
      ]
    },
    {
      "metadata": {
        "id": "rubvC1P88JFr",
        "colab_type": "code",
        "outputId": "02e72d44-19fc-4ce7-d7a8-3b1c26e8d07e",
        "colab": {
          "base_uri": "https://localhost:8080/",
          "height": 195
        }
      },
      "cell_type": "code",
      "source": [
        "df_titles['label'] = 0\n",
        "df_titles.loc[df_titles['compound'] > 0.2, 'label'] = 1\n",
        "df_titles.loc[df_titles['compound'] < -0.2, 'label'] = -1\n",
        "df_titles.head()"
      ],
      "execution_count": 0,
      "outputs": [
        {
          "output_type": "execute_result",
          "data": {
            "text/html": [
              "<div>\n",
              "<style scoped>\n",
              "    .dataframe tbody tr th:only-of-type {\n",
              "        vertical-align: middle;\n",
              "    }\n",
              "\n",
              "    .dataframe tbody tr th {\n",
              "        vertical-align: top;\n",
              "    }\n",
              "\n",
              "    .dataframe thead th {\n",
              "        text-align: right;\n",
              "    }\n",
              "</style>\n",
              "<table border=\"1\" class=\"dataframe\">\n",
              "  <thead>\n",
              "    <tr style=\"text-align: right;\">\n",
              "      <th></th>\n",
              "      <th>compound</th>\n",
              "      <th>neg</th>\n",
              "      <th>neu</th>\n",
              "      <th>pos</th>\n",
              "      <th>title</th>\n",
              "      <th>label</th>\n",
              "    </tr>\n",
              "  </thead>\n",
              "  <tbody>\n",
              "    <tr>\n",
              "      <th>0</th>\n",
              "      <td>0.0000</td>\n",
              "      <td>0.000</td>\n",
              "      <td>1.000</td>\n",
              "      <td>0.000</td>\n",
              "      <td>Rachel Maddow says she has Trump's tax returns</td>\n",
              "      <td>0</td>\n",
              "    </tr>\n",
              "    <tr>\n",
              "      <th>1</th>\n",
              "      <td>-0.5574</td>\n",
              "      <td>0.247</td>\n",
              "      <td>0.753</td>\n",
              "      <td>0.000</td>\n",
              "      <td>Trump fired Sally Yates the day she offered ev...</td>\n",
              "      <td>-1</td>\n",
              "    </tr>\n",
              "    <tr>\n",
              "      <th>2</th>\n",
              "      <td>-0.2960</td>\n",
              "      <td>0.109</td>\n",
              "      <td>0.891</td>\n",
              "      <td>0.000</td>\n",
              "      <td>Brett Kavanaugh has been accused of sexual mis...</td>\n",
              "      <td>-1</td>\n",
              "    </tr>\n",
              "    <tr>\n",
              "      <th>3</th>\n",
              "      <td>0.0000</td>\n",
              "      <td>0.000</td>\n",
              "      <td>1.000</td>\n",
              "      <td>0.000</td>\n",
              "      <td>Ted Nugent once said Obama should ‘suck on my ...</td>\n",
              "      <td>0</td>\n",
              "    </tr>\n",
              "    <tr>\n",
              "      <th>4</th>\n",
              "      <td>0.4939</td>\n",
              "      <td>0.000</td>\n",
              "      <td>0.758</td>\n",
              "      <td>0.242</td>\n",
              "      <td>Democrats save arts funding for NPR and PBS fr...</td>\n",
              "      <td>1</td>\n",
              "    </tr>\n",
              "  </tbody>\n",
              "</table>\n",
              "</div>"
            ],
            "text/plain": [
              "   compound    neg    neu    pos  \\\n",
              "0    0.0000  0.000  1.000  0.000   \n",
              "1   -0.5574  0.247  0.753  0.000   \n",
              "2   -0.2960  0.109  0.891  0.000   \n",
              "3    0.0000  0.000  1.000  0.000   \n",
              "4    0.4939  0.000  0.758  0.242   \n",
              "\n",
              "                                               title  label  \n",
              "0     Rachel Maddow says she has Trump's tax returns      0  \n",
              "1  Trump fired Sally Yates the day she offered ev...     -1  \n",
              "2  Brett Kavanaugh has been accused of sexual mis...     -1  \n",
              "3  Ted Nugent once said Obama should ‘suck on my ...      0  \n",
              "4  Democrats save arts funding for NPR and PBS fr...      1  "
            ]
          },
          "metadata": {
            "tags": []
          },
          "execution_count": 6
        }
      ]
    },
    {
      "metadata": {
        "id": "bMg0gani7tN0",
        "colab_type": "text"
      },
      "cell_type": "markdown",
      "source": [
        "Examples of positive and negative titles."
      ]
    },
    {
      "metadata": {
        "id": "-YLC_I4L8OlS",
        "colab_type": "code",
        "outputId": "88b63cc2-f9b2-4d07-d41a-bbf38b3ec60a",
        "colab": {
          "base_uri": "https://localhost:8080/",
          "height": 269
        }
      },
      "cell_type": "code",
      "source": [
        "df_titles_labeled = df_titles[['title', 'label']]\n",
        "df_titles_labeled.to_csv('reddit_titles_labels.csv', mode='a', encoding='utf-8', index=False)\n",
        "\n",
        "print(\"Positive titles:\\n\")\n",
        "pprint(list(df_titles[df_titles['label'] == 1].title)[:5], width=200)\n",
        "\n",
        "print(\"\\nNegative titles:\\n\")\n",
        "pprint(list(df_titles[df_titles['label'] == -1].title)[:5], width=200)"
      ],
      "execution_count": 0,
      "outputs": [
        {
          "output_type": "stream",
          "text": [
            "Positive titles:\n",
            "\n",
            "['Democrats save arts funding for NPR and PBS from Donald Trump',\n",
            " 'Majority says Election Day should be a federal holiday, poll finds',\n",
            " 'Obama Endorses Idea of National Voting Holiday',\n",
            " \"Findings that Russia meddled to help Trump beat Clinton were 'accurate and on point': Senate intel panel\",\n",
            " 'Kyrsten Sinema wins, will become the first Democratic senator from Arizona in a quarter century']\n",
            "\n",
            "Negative titles:\n",
            "\n",
            "['Trump fired Sally Yates the day she offered evidence Flynn was compromised',\n",
            " \"Brett Kavanaugh has been accused of sexual misconduct with a woman in a letter that's been passed to the FBI: Report\",\n",
            " \"Poll: Majority says Trump not 'fit to serve as president'\",\n",
            " '37 of 38 economists said the GOP tax plans would grow the debt. The 38th misread the question.',\n",
            " \"Trump's EPA Greenlights a Nasty Chemical. A Month Later, It Poisons a Bunch of Farmworkers.\"]\n"
          ],
          "name": "stdout"
        }
      ]
    },
    {
      "metadata": {
        "id": "8qbTQo0n7_yc",
        "colab_type": "text"
      },
      "cell_type": "markdown",
      "source": [
        "Calculate the total count of neutral, negative, and positive post titles there are and then normalize them."
      ]
    },
    {
      "metadata": {
        "id": "PjhIQOAN8SQo",
        "colab_type": "code",
        "outputId": "08d47f59-0816-4a03-cb2d-4b114b35f52b",
        "colab": {
          "base_uri": "https://localhost:8080/",
          "height": 151
        }
      },
      "cell_type": "code",
      "source": [
        "print(df_titles.label.value_counts())\n",
        "\n",
        "print(df_titles.label.value_counts(normalize=True) * 100)"
      ],
      "execution_count": 0,
      "outputs": [
        {
          "output_type": "stream",
          "text": [
            " 0    417\n",
            "-1    359\n",
            " 1    222\n",
            "Name: label, dtype: int64\n",
            " 0    41.783567\n",
            "-1    35.971944\n",
            " 1    22.244489\n",
            "Name: label, dtype: float64\n"
          ],
          "name": "stdout"
        }
      ]
    },
    {
      "metadata": {
        "id": "tWEW0U3K8J-Q",
        "colab_type": "text"
      },
      "cell_type": "markdown",
      "source": [
        "Plot a bar chart with the normalized counts of the polarity post titles. Interestingly, there are more neutral titles than positive or negative titles. However, there are approximately 15% more negative titles than positive titles."
      ]
    },
    {
      "metadata": {
        "id": "S601KUBY8YfU",
        "colab_type": "code",
        "outputId": "24ab128c-05d5-4f30-cc90-e4af68481dea",
        "colab": {
          "base_uri": "https://localhost:8080/",
          "height": 505
        }
      },
      "cell_type": "code",
      "source": [
        "fig, ax = plt.subplots(figsize=(8, 8))\n",
        "\n",
        "counts = df_titles.label.value_counts(normalize=True) * 100\n",
        "\n",
        "sns.barplot(x=counts.index, y=counts, ax=ax)\n",
        "\n",
        "ax.set_xticklabels(['Negative', 'Neutral', 'Positive'])\n",
        "ax.set_ylabel(\"Percentage\")\n",
        "\n",
        "plt.show()"
      ],
      "execution_count": 0,
      "outputs": [
        {
          "output_type": "display_data",
          "data": {
            "image/png": "[encoded data removed]",
            "text/plain": [
              "<matplotlib.figure.Figure at 0x7fb854e3c550>"
            ]
          },
          "metadata": {
            "tags": []
          }
        }
      ]
    },
    {
      "metadata": {
        "id": "7tUDk7iG8ycR",
        "colab_type": "text"
      },
      "cell_type": "markdown",
      "source": [
        "To calculate the most frequently used words in post titles, first I used nltk's tokenizer and downloaded stopwords (words that don't contain much information/sentiment and should be removed) from nltk's library. Then I defined a function that takes in a list of titles and lowercases, tokenizes, and removes stopwords from each title."
      ]
    },
    {
      "metadata": {
        "id": "g8AuGVSV8dl-",
        "colab_type": "code",
        "colab": {}
      },
      "cell_type": "code",
      "source": [
        "from nltk.tokenize import word_tokenize, RegexpTokenizer\n",
        "\n",
        "tokenizer = RegexpTokenizer(r'\\w+')\n",
        "\n",
        "from nltk.corpus import stopwords\n",
        "\n",
        "stop_words = stopwords.words('english')\n",
        "\n",
        "def process_text(titles):\n",
        "    tokens = []\n",
        "    for line in titles:\n",
        "        toks = tokenizer.tokenize(line)\n",
        "        toks = [t.lower() for t in toks if t.lower() not in stop_words]\n",
        "        tokens.extend(toks)\n",
        "    \n",
        "    return tokens"
      ],
      "execution_count": 0,
      "outputs": []
    },
    {
      "metadata": {
        "id": "1uciVnUb-Q2q",
        "colab_type": "text"
      },
      "cell_type": "markdown",
      "source": [
        "Tokenize all of the positive titles and show the top 20 most frequently used tokens."
      ]
    },
    {
      "metadata": {
        "id": "MTUFiqJa8vwR",
        "colab_type": "code",
        "outputId": "74e59419-7a77-4ae4-c9a3-1d8c9543fcba",
        "colab": {
          "base_uri": "https://localhost:8080/",
          "height": 353
        }
      },
      "cell_type": "code",
      "source": [
        "pos_lines = list(df_titles[df_titles_labeled.label == 1].title)\n",
        "\n",
        "pos_tokens = process_text(pos_lines)\n",
        "pos_freq = nltk.FreqDist(pos_tokens)\n",
        "\n",
        "pos_freq.most_common(20)"
      ],
      "execution_count": 0,
      "outputs": [
        {
          "output_type": "execute_result",
          "data": {
            "text/plain": [
              "[('trump', 112),\n",
              " ('donald', 22),\n",
              " ('says', 20),\n",
              " ('russia', 17),\n",
              " ('house', 17),\n",
              " ('bill', 14),\n",
              " ('special', 13),\n",
              " ('election', 12),\n",
              " ('mueller', 12),\n",
              " ('obama', 11),\n",
              " ('campaign', 11),\n",
              " ('day', 10),\n",
              " ('top', 10),\n",
              " ('white', 10),\n",
              " ('justice', 10),\n",
              " ('care', 10),\n",
              " ('senate', 9),\n",
              " ('intelligence', 9),\n",
              " ('counsel', 9),\n",
              " ('russian', 9)]"
            ]
          },
          "metadata": {
            "tags": []
          },
          "execution_count": 11
        }
      ]
    },
    {
      "metadata": {
        "id": "0YHObZGa-YHS",
        "colab_type": "text"
      },
      "cell_type": "markdown",
      "source": [
        "Plot the frequency distribution of the positive tokens. From the plot, we can see that only a minority of tokens are used frequently and the majority of tokens are used less frequently."
      ]
    },
    {
      "metadata": {
        "id": "TmzF_RoF8wxT",
        "colab_type": "code",
        "outputId": "9e5e5656-d020-48c9-efec-9fde9f2aca48",
        "colab": {
          "base_uri": "https://localhost:8080/",
          "height": 375
        }
      },
      "cell_type": "code",
      "source": [
        "y_val = [x[1] for x in pos_freq.most_common()]\n",
        "\n",
        "fig = plt.figure(figsize=(10,5))\n",
        "plt.plot(y_val)\n",
        "\n",
        "plt.xlabel(\"Words\")\n",
        "plt.ylabel(\"Frequency\")\n",
        "plt.title(\"Word Frequency Distribution (Positive)\")\n",
        "plt.show()"
      ],
      "execution_count": 0,
      "outputs": [
        {
          "output_type": "display_data",
          "data": {
            "image/png": "[encoded data removed]",
            "text/plain": [
              "<matplotlib.figure.Figure at 0x7fb8832e7208>"
            ]
          },
          "metadata": {
            "tags": []
          }
        }
      ]
    },
    {
      "metadata": {
        "id": "_-yuMdHE_DDp",
        "colab_type": "text"
      },
      "cell_type": "markdown",
      "source": [
        "Tokenize all of the negative titles and show the top 20 most frequently used tokens. From this, we see that Trump and the Mueller investigation dominate the news cycle so much so that they are both in the most frequently used positive and negative titles. Notably, 'assault' and 'sexual' are frequent negative tokens that do not appear in the frequent positive token list."
      ]
    },
    {
      "metadata": {
        "id": "Ms5_ZeKB81Sf",
        "colab_type": "code",
        "outputId": "149a4dea-4544-4d2b-904d-16cc0e268db3",
        "colab": {
          "base_uri": "https://localhost:8080/",
          "height": 353
        }
      },
      "cell_type": "code",
      "source": [
        "neg_lines = list(df_titles_labeled[df_titles_labeled.label == -1].title)\n",
        "\n",
        "neg_tokens = process_text(neg_lines)\n",
        "neg_freq = nltk.FreqDist(neg_tokens)\n",
        "\n",
        "neg_freq.most_common(20)"
      ],
      "execution_count": 0,
      "outputs": [
        {
          "output_type": "execute_result",
          "data": {
            "text/plain": [
              "[('trump', 194),\n",
              " ('donald', 34),\n",
              " ('says', 27),\n",
              " ('white', 22),\n",
              " ('president', 21),\n",
              " ('house', 20),\n",
              " ('us', 18),\n",
              " ('mueller', 16),\n",
              " ('fraud', 15),\n",
              " ('obama', 14),\n",
              " ('russia', 13),\n",
              " ('vote', 12),\n",
              " ('russian', 12),\n",
              " ('assault', 12),\n",
              " ('people', 12),\n",
              " ('sexual', 11),\n",
              " ('gop', 11),\n",
              " ('million', 11),\n",
              " ('u', 11),\n",
              " ('report', 10)]"
            ]
          },
          "metadata": {
            "tags": []
          },
          "execution_count": 13
        }
      ]
    },
    {
      "metadata": {
        "id": "yP9SqYr2_53Y",
        "colab_type": "text"
      },
      "cell_type": "markdown",
      "source": [
        "Plot the frequency distribution of the negative tokens. Similar to the case of positive tokens, from the plot, we can see that only a minority of tokens are used frequently and the majority of tokens are used less frequently.\n",
        "\n"
      ]
    },
    {
      "metadata": {
        "id": "8lZq0vJT839l",
        "colab_type": "code",
        "outputId": "5cab57bb-b7da-412f-970d-fc874d81d434",
        "colab": {
          "base_uri": "https://localhost:8080/",
          "height": 375
        }
      },
      "cell_type": "code",
      "source": [
        "y_val = [x[1] for x in neg_freq.most_common()]\n",
        "\n",
        "fig = plt.figure(figsize=(10,5))\n",
        "plt.plot(y_val)\n",
        "\n",
        "plt.xlabel(\"Words\")\n",
        "plt.ylabel(\"Frequency\")\n",
        "plt.title(\"Word Frequency Distribution (Negative)\")\n",
        "plt.show()"
      ],
      "execution_count": 0,
      "outputs": [
        {
          "output_type": "display_data",
          "data": {
            "image/png": "[encoded data removed]",
            "text/plain": [
              "<matplotlib.figure.Figure at 0x7fb852405160>"
            ]
          },
          "metadata": {
            "tags": []
          }
        }
      ]
    },
    {
      "metadata": {
        "id": "E1RRwU_yADOC",
        "colab_type": "text"
      },
      "cell_type": "markdown",
      "source": [
        "Each post links a url source that contains a HTTP protocol, so I can first split the url strings on the \"//\" ending the protocol. However, not all urls contain \"www\" so conditionally split if the remaining string contains \"www.\" The 4 most common top-level domains are  \".com,\" \".co\" (UK sources), \".org\", and \".gov\". Using casework, split the url strings by casing on the top-level domains to get the subdomains (the websites). The remaining sample of sources remains large - 995."
      ]
    },
    {
      "metadata": {
        "id": "xf0lUddD86zH",
        "colab_type": "code",
        "outputId": "7d45783e-5c39-4a6f-e9b4-2faff221576b",
        "colab": {
          "base_uri": "https://localhost:8080/",
          "height": 34
        }
      },
      "cell_type": "code",
      "source": [
        "sources_first_split = []\n",
        "sources_second_split = []\n",
        "sources_third_split = []\n",
        "\n",
        "for source in sources:\n",
        "  sources_first_split.append(source.split(\"//\")[1])\n",
        "\n",
        "for source in sources_first_split:\n",
        "  if \"www.\" in source:\n",
        "    sources_second_split.append(source.split(\"www.\")[1])\n",
        "  else:\n",
        "    sources_second_split.append(source)\n",
        "\n",
        "for source in sources_second_split:\n",
        "  if \".com\" in source:\n",
        "    sources_third_split.append(source.split(\".com\")[0])\n",
        "  elif \".co\" in source:\n",
        "    sources_third_split.append(source.split(\".co\")[0])\n",
        "  elif \".org\" in source:\n",
        "    sources_third_split.append(source.split(\".org\")[0])\n",
        "  elif \".gov\" in source:\n",
        "    sources_third_split.append(source.split(\".gov\")[0])\n",
        " \n",
        "print(len(sources_third_split))"
      ],
      "execution_count": 0,
      "outputs": [
        {
          "output_type": "stream",
          "text": [
            "995\n"
          ],
          "name": "stdout"
        }
      ]
    },
    {
      "metadata": {
        "id": "1KHi2nIuCCtq",
        "colab_type": "text"
      },
      "cell_type": "markdown",
      "source": [
        "Utilizing Counter, calculate the top 10 most commonly referenced sources. Then create a dictionary mapping sources to their frequencies and transform the dictionary to a panda dataframe."
      ]
    },
    {
      "metadata": {
        "id": "-2yzQyju9I5F",
        "colab_type": "code",
        "outputId": "fdffa0dc-4c3a-493a-e43e-a174b02490ae",
        "colab": {
          "base_uri": "https://localhost:8080/",
          "height": 202
        }
      },
      "cell_type": "code",
      "source": [
        "distinct_sources = Counter(sources_third_split)\n",
        "top_10 = distinct_sources.most_common(10)\n",
        "\n",
        "top_10_sources = [i[0] for i in top_10]\n",
        "top_10_freqs = [i[1] for i in top_10]\n",
        "\n",
        "dict_sources = {\n",
        "    \"sources\": top_10_sources,\n",
        "    \"freqs\": top_10_freqs\n",
        "}\n",
        "\n",
        "df_sources = pd.DataFrame(dict_sources)\n",
        "print(df_sources)"
      ],
      "execution_count": 0,
      "outputs": [
        {
          "output_type": "stream",
          "text": [
            "   freqs          sources\n",
            "0    122          thehill\n",
            "1     81   washingtonpost\n",
            "2     69      independent\n",
            "3     47         newsweek\n",
            "4     38  businessinsider\n",
            "5     38           reddit\n",
            "6     34          nytimes\n",
            "7     33             cnbc\n",
            "8     29              cnn\n",
            "9     27    thinkprogress\n"
          ],
          "name": "stdout"
        }
      ]
    },
    {
      "metadata": {
        "id": "XEhmo1w1COXq",
        "colab_type": "text"
      },
      "cell_type": "markdown",
      "source": [
        "Plot a bar chart of the top 10 most frequently utilized sources."
      ]
    },
    {
      "metadata": {
        "id": "0Vi4V50QT8yC",
        "colab_type": "code",
        "outputId": "35268265-b18d-40b8-b90e-b7447bcecf7e",
        "colab": {
          "base_uri": "https://localhost:8080/",
          "height": 540
        }
      },
      "cell_type": "code",
      "source": [
        "sns.set(rc={'figure.figsize':(14,8.27)})\n",
        "sns.barplot(x='sources', y='freqs',data=df_sources)"
      ],
      "execution_count": 0,
      "outputs": [
        {
          "output_type": "execute_result",
          "data": {
            "text/plain": [
              "<matplotlib.axes._subplots.AxesSubplot at 0x7fb852405ac8>"
            ]
          },
          "metadata": {
            "tags": []
          },
          "execution_count": 17
        },
        {
          "output_type": "display_data",
          "data": {
            "image/png": "[encoded data removed]",
            "text/plain": [
              "<matplotlib.figure.Figure at 0x7fb8523f15f8>"
            ]
          },
          "metadata": {
            "tags": []
          }
        }
      ]
    },
    {
      "metadata": {
        "id": "8ZTHSsy2D1zQ",
        "colab_type": "text"
      },
      "cell_type": "markdown",
      "source": [
        "Here I defined a custom class \"Comment\" that has a body, score, and sum_comm (total number of comments in the post) field. I found that iterating through the comments of all of the top posts took too much time, so I limited the comment analysis to the top 100 posts. \n",
        "\n",
        "The first comment in each post is an auto-generated bot reminder of the rules and guidelines of the subreddit. Therefore, the top comment in each post is the second comment in comments.list().\n",
        "\n",
        "For each of the top 100 posts, create a new Comment instance and add that instance to the set of comments."
      ]
    },
    {
      "metadata": {
        "id": "qxda_MidCo3T",
        "colab_type": "code",
        "outputId": "99e7b509-c96d-4aa3-9dbb-66fa84eb165f",
        "colab": {
          "base_uri": "https://localhost:8080/",
          "height": 34
        }
      },
      "cell_type": "code",
      "source": [
        "class Comment:\n",
        "  def __init__(self, body, score, sum_comm):\n",
        "    self.body = body\n",
        "    self.score = score\n",
        "    self.sum_comm = sum_comm  \n",
        "\n",
        "top_100_posts = politics.top(limit=100)\n",
        "comments = set()\n",
        "\n",
        "for post in top_100_posts:\n",
        "  c = post.comments.list()[1]\n",
        "  com = Comment(c.body, c.score, post.num_comments)\n",
        "  comments.add(com)\n",
        "\n",
        "print(len(comments))"
      ],
      "execution_count": 0,
      "outputs": [
        {
          "output_type": "stream",
          "text": [
            "100\n"
          ],
          "name": "stdout"
        }
      ]
    },
    {
      "metadata": {
        "id": "zlbIb15iHqQd",
        "colab_type": "text"
      },
      "cell_type": "markdown",
      "source": [
        "Create two lists of the scores and the sum_comm for each of the comments and then create a dictionary mapping scores to sum_comms. Also create two lists of the log of the scores and sum_comm for each of the comments and then create a dictionary mapping log scores to log sum_comms."
      ]
    },
    {
      "metadata": {
        "id": "ZGBZPsbEyES5",
        "colab_type": "code",
        "outputId": "bd6063d9-1a3d-4ae5-af84-6d71faad2089",
        "colab": {
          "base_uri": "https://localhost:8080/",
          "height": 195
        }
      },
      "cell_type": "code",
      "source": [
        "scores = []\n",
        "sum_comm = []\n",
        "com_bodies = set()\n",
        "\n",
        "log_scores = []\n",
        "log_sum_comm = []\n",
        "\n",
        "for comment in comments:\n",
        "  scores.append(comment.score)\n",
        "  sum_comm.append(comment.sum_comm)\n",
        "  log_scores.append(math.log(comment.score))\n",
        "  log_sum_comm.append(math.log(comment.sum_comm))\n",
        "  com_bodies.add(comment.body)\n",
        "\n",
        "dict_comments = {\n",
        "    \"scores\": scores,\n",
        "    \"sum_comm\": sum_comm\n",
        "}\n",
        "\n",
        "dict_comments_log = {\n",
        "    \"log_scores\": log_scores,\n",
        "    \"log_sum_comm\": log_sum_comm\n",
        "}\n",
        "\n",
        "df_comments = pd.DataFrame(dict_comments)\n",
        "df_comments_log = pd.DataFrame(dict_comments_log)\n",
        "\n",
        "df_comments.head()"
      ],
      "execution_count": 0,
      "outputs": [
        {
          "output_type": "execute_result",
          "data": {
            "text/html": [
              "<div>\n",
              "<style scoped>\n",
              "    .dataframe tbody tr th:only-of-type {\n",
              "        vertical-align: middle;\n",
              "    }\n",
              "\n",
              "    .dataframe tbody tr th {\n",
              "        vertical-align: top;\n",
              "    }\n",
              "\n",
              "    .dataframe thead th {\n",
              "        text-align: right;\n",
              "    }\n",
              "</style>\n",
              "<table border=\"1\" class=\"dataframe\">\n",
              "  <thead>\n",
              "    <tr style=\"text-align: right;\">\n",
              "      <th></th>\n",
              "      <th>scores</th>\n",
              "      <th>sum_comm</th>\n",
              "    </tr>\n",
              "  </thead>\n",
              "  <tbody>\n",
              "    <tr>\n",
              "      <th>0</th>\n",
              "      <td>7451</td>\n",
              "      <td>1955</td>\n",
              "    </tr>\n",
              "    <tr>\n",
              "      <th>1</th>\n",
              "      <td>2850</td>\n",
              "      <td>1558</td>\n",
              "    </tr>\n",
              "    <tr>\n",
              "      <th>2</th>\n",
              "      <td>1541</td>\n",
              "      <td>6959</td>\n",
              "    </tr>\n",
              "    <tr>\n",
              "      <th>3</th>\n",
              "      <td>1762</td>\n",
              "      <td>14326</td>\n",
              "    </tr>\n",
              "    <tr>\n",
              "      <th>4</th>\n",
              "      <td>7724</td>\n",
              "      <td>6369</td>\n",
              "    </tr>\n",
              "  </tbody>\n",
              "</table>\n",
              "</div>"
            ],
            "text/plain": [
              "   scores  sum_comm\n",
              "0    7451      1955\n",
              "1    2850      1558\n",
              "2    1541      6959\n",
              "3    1762     14326\n",
              "4    7724      6369"
            ]
          },
          "metadata": {
            "tags": []
          },
          "execution_count": 30
        }
      ]
    },
    {
      "metadata": {
        "id": "3kRDDRqKMgeb",
        "colab_type": "text"
      },
      "cell_type": "markdown",
      "source": [
        "Plot a scatter plot of the sum_comms against scores. As the plot shows, there is a weak negative relationship. Therefore, as the number of comments in a post increases, the score of the top comment decreases. This would indicate that posts that generate more comments have less consensus (less people agree with the top comment)."
      ]
    },
    {
      "metadata": {
        "id": "OqpJdg3cFY0T",
        "colab_type": "code",
        "outputId": "e5fec189-babf-465f-9367-73c113fd22b1",
        "colab": {
          "base_uri": "https://localhost:8080/",
          "height": 540
        }
      },
      "cell_type": "code",
      "source": [
        "sns.scatterplot(x=\"sum_comm\", y=\"scores\", data=df_comments)"
      ],
      "execution_count": 0,
      "outputs": [
        {
          "output_type": "execute_result",
          "data": {
            "text/plain": [
              "<matplotlib.axes._subplots.AxesSubplot at 0x7fb8457c4a20>"
            ]
          },
          "metadata": {
            "tags": []
          },
          "execution_count": 20
        },
        {
          "output_type": "display_data",
          "data": {
            "image/png": "[encoded data removed]",
            "text/plain": [
              "<matplotlib.figure.Figure at 0x7fb8457b1fd0>"
            ]
          },
          "metadata": {
            "tags": []
          }
        }
      ]
    },
    {
      "metadata": {
        "id": "oZnSPiGUNC7p",
        "colab_type": "text"
      },
      "cell_type": "markdown",
      "source": [
        "By plotting the log of both sides, we see that the variance decreases as the sum_comm increases, supporting the proposition that there is a weakly negative relationship."
      ]
    },
    {
      "metadata": {
        "id": "BimPnu7oKaSN",
        "colab_type": "code",
        "outputId": "62bcffce-5396-4b4d-e186-430964b812ef",
        "colab": {
          "base_uri": "https://localhost:8080/",
          "height": 540
        }
      },
      "cell_type": "code",
      "source": [
        "sns.scatterplot(x=\"log_sum_comm\", y=\"log_scores\", data=df_comments_log)"
      ],
      "execution_count": 0,
      "outputs": [
        {
          "output_type": "execute_result",
          "data": {
            "text/plain": [
              "<matplotlib.axes._subplots.AxesSubplot at 0x7fb8453b04a8>"
            ]
          },
          "metadata": {
            "tags": []
          },
          "execution_count": 24
        },
        {
          "output_type": "display_data",
          "data": {
            "image/png": "[encoded data removed]",
            "text/plain": [
              "<matplotlib.figure.Figure at 0x7fb8453b0828>"
            ]
          },
          "metadata": {
            "tags": []
          }
        }
      ]
    },
    {
      "metadata": {
        "id": "joFrhlmMQpGX",
        "colab_type": "text"
      },
      "cell_type": "markdown",
      "source": [
        "Calculate sentiment analysis of comments following the same steps used for titles."
      ]
    },
    {
      "metadata": {
        "id": "8HyzmjF_Pg_r",
        "colab_type": "code",
        "outputId": "28eccade-c308-438d-aa01-87463cfff844",
        "colab": {
          "base_uri": "https://localhost:8080/",
          "height": 672
        }
      },
      "cell_type": "code",
      "source": [
        "results = []\n",
        "\n",
        "for line in com_bodies:\n",
        "    pol_score = sia.polarity_scores(line)\n",
        "    pol_score['comment'] = line\n",
        "    results.append(pol_score)\n",
        "\n",
        "pprint(results[:3], width=100)"
      ],
      "execution_count": 0,
      "outputs": [
        {
          "output_type": "stream",
          "text": [
            "[{'comment': '> \"I did try and fuck her. She was married… I moved on her like a bitch, but I '\n",
            "             \"couldn't get there. And she was married. Then all of a sudden I see her, she's not \"\n",
            "             \"got the big phony tits and everything... I've got to use some Tic-Tacs, just in case \"\n",
            "             \"I start kissing her. You know I'm automatically attracted to beautiful. I just start \"\n",
            "             \"kissing them. It's like a magnet. Just kiss. I don't even wait. And when you're a \"\n",
            "             'star, they let you do it. You can do anything. Grab them by the pussy. You can do '\n",
            "             'anything.\"',\n",
            "  'compound': 0.9746,\n",
            "  'neg': 0.061,\n",
            "  'neu': 0.697,\n",
            "  'pos': 0.242},\n",
            " {'comment': 'Remember too that the campaign revised the GOP platform, softening the stance on '\n",
            "             'Ukraine.',\n",
            "  'compound': 0.0,\n",
            "  'neg': 0.0,\n",
            "  'neu': 1.0,\n",
            "  'pos': 0.0},\n",
            " {'comment': 'Next press conference. \\n'\n",
            "             '\\n'\n",
            "             'Media outlet called on\\n'\n",
            "             '>You recently shared a video doctored to make it appear one of my colleagues did '\n",
            "             \"something he didn't. You constantly share altered transcripts of events that do not \"\n",
            "             'match the videos of these events. At what point should we consider press releases '\n",
            "             'from the Whitehouse propaganda and not factual information?\\n'\n",
            "             '\\n'\n",
            "             'SHS\\n'\n",
            "             '>Some bullshit answer\\n'\n",
            "             '\\n'\n",
            "             'Next media outlet called on\\n'\n",
            "             '>You recently shared a video doctored to make it appear one of my colleagues did '\n",
            "             \"something he didn't. You constantly share altered transcripts of events that do not \"\n",
            "             'match the videos of these events. At what point should we consider press releases '\n",
            "             'from the Whitehouse propaganda and not factual information?\\n'\n",
            "             '\\n'\n",
            "             'Ad infinitum',\n",
            "  'compound': -0.7299,\n",
            "  'neg': 0.095,\n",
            "  'neu': 0.867,\n",
            "  'pos': 0.038}]\n"
          ],
          "name": "stdout"
        }
      ]
    },
    {
      "metadata": {
        "id": "nZ_phxVfPsIQ",
        "colab_type": "code",
        "outputId": "ee4c9328-a182-4e27-f2c7-84fedaa5f235",
        "colab": {
          "base_uri": "https://localhost:8080/",
          "height": 195
        }
      },
      "cell_type": "code",
      "source": [
        "df_comments = pd.DataFrame.from_records(results)\n",
        "df_comments.head()"
      ],
      "execution_count": 0,
      "outputs": [
        {
          "output_type": "execute_result",
          "data": {
            "text/html": [
              "<div>\n",
              "<style scoped>\n",
              "    .dataframe tbody tr th:only-of-type {\n",
              "        vertical-align: middle;\n",
              "    }\n",
              "\n",
              "    .dataframe tbody tr th {\n",
              "        vertical-align: top;\n",
              "    }\n",
              "\n",
              "    .dataframe thead th {\n",
              "        text-align: right;\n",
              "    }\n",
              "</style>\n",
              "<table border=\"1\" class=\"dataframe\">\n",
              "  <thead>\n",
              "    <tr style=\"text-align: right;\">\n",
              "      <th></th>\n",
              "      <th>comment</th>\n",
              "      <th>compound</th>\n",
              "      <th>neg</th>\n",
              "      <th>neu</th>\n",
              "      <th>pos</th>\n",
              "    </tr>\n",
              "  </thead>\n",
              "  <tbody>\n",
              "    <tr>\n",
              "      <th>0</th>\n",
              "      <td>&gt; \"I did try and fuck her. She was married… I ...</td>\n",
              "      <td>0.9746</td>\n",
              "      <td>0.061</td>\n",
              "      <td>0.697</td>\n",
              "      <td>0.242</td>\n",
              "    </tr>\n",
              "    <tr>\n",
              "      <th>1</th>\n",
              "      <td>Remember too that the campaign revised the GOP...</td>\n",
              "      <td>0.0000</td>\n",
              "      <td>0.000</td>\n",
              "      <td>1.000</td>\n",
              "      <td>0.000</td>\n",
              "    </tr>\n",
              "    <tr>\n",
              "      <th>2</th>\n",
              "      <td>Next press conference. \\n\\nMedia outlet called...</td>\n",
              "      <td>-0.7299</td>\n",
              "      <td>0.095</td>\n",
              "      <td>0.867</td>\n",
              "      <td>0.038</td>\n",
              "    </tr>\n",
              "    <tr>\n",
              "      <th>3</th>\n",
              "      <td>Breitbart, One America Network, Washington Tim...</td>\n",
              "      <td>-0.6705</td>\n",
              "      <td>0.143</td>\n",
              "      <td>0.857</td>\n",
              "      <td>0.000</td>\n",
              "    </tr>\n",
              "    <tr>\n",
              "      <th>4</th>\n",
              "      <td>&gt; \"You give us $15, and we’ll send six America...</td>\n",
              "      <td>0.3400</td>\n",
              "      <td>0.080</td>\n",
              "      <td>0.788</td>\n",
              "      <td>0.132</td>\n",
              "    </tr>\n",
              "  </tbody>\n",
              "</table>\n",
              "</div>"
            ],
            "text/plain": [
              "                                             comment  compound    neg    neu  \\\n",
              "0  > \"I did try and fuck her. She was married… I ...    0.9746  0.061  0.697   \n",
              "1  Remember too that the campaign revised the GOP...    0.0000  0.000  1.000   \n",
              "2  Next press conference. \\n\\nMedia outlet called...   -0.7299  0.095  0.867   \n",
              "3  Breitbart, One America Network, Washington Tim...   -0.6705  0.143  0.857   \n",
              "4  > \"You give us $15, and we’ll send six America...    0.3400  0.080  0.788   \n",
              "\n",
              "     pos  \n",
              "0  0.242  \n",
              "1  0.000  \n",
              "2  0.038  \n",
              "3  0.000  \n",
              "4  0.132  "
            ]
          },
          "metadata": {
            "tags": []
          },
          "execution_count": 39
        }
      ]
    },
    {
      "metadata": {
        "id": "gHtMnJ-7Pwpa",
        "colab_type": "code",
        "outputId": "1a769197-e805-4839-cad8-ba06605f1359",
        "colab": {
          "base_uri": "https://localhost:8080/",
          "height": 195
        }
      },
      "cell_type": "code",
      "source": [
        "df_comments['label'] = 0\n",
        "df_comments.loc[df_comments['compound'] > 0.2, 'label'] = 1\n",
        "df_comments.loc[df_comments['compound'] < -0.2, 'label'] = -1\n",
        "df_comments.head()"
      ],
      "execution_count": 0,
      "outputs": [
        {
          "output_type": "execute_result",
          "data": {
            "text/html": [
              "<div>\n",
              "<style scoped>\n",
              "    .dataframe tbody tr th:only-of-type {\n",
              "        vertical-align: middle;\n",
              "    }\n",
              "\n",
              "    .dataframe tbody tr th {\n",
              "        vertical-align: top;\n",
              "    }\n",
              "\n",
              "    .dataframe thead th {\n",
              "        text-align: right;\n",
              "    }\n",
              "</style>\n",
              "<table border=\"1\" class=\"dataframe\">\n",
              "  <thead>\n",
              "    <tr style=\"text-align: right;\">\n",
              "      <th></th>\n",
              "      <th>comment</th>\n",
              "      <th>compound</th>\n",
              "      <th>neg</th>\n",
              "      <th>neu</th>\n",
              "      <th>pos</th>\n",
              "      <th>label</th>\n",
              "    </tr>\n",
              "  </thead>\n",
              "  <tbody>\n",
              "    <tr>\n",
              "      <th>0</th>\n",
              "      <td>&gt; \"I did try and fuck her. She was married… I ...</td>\n",
              "      <td>0.9746</td>\n",
              "      <td>0.061</td>\n",
              "      <td>0.697</td>\n",
              "      <td>0.242</td>\n",
              "      <td>1</td>\n",
              "    </tr>\n",
              "    <tr>\n",
              "      <th>1</th>\n",
              "      <td>Remember too that the campaign revised the GOP...</td>\n",
              "      <td>0.0000</td>\n",
              "      <td>0.000</td>\n",
              "      <td>1.000</td>\n",
              "      <td>0.000</td>\n",
              "      <td>0</td>\n",
              "    </tr>\n",
              "    <tr>\n",
              "      <th>2</th>\n",
              "      <td>Next press conference. \\n\\nMedia outlet called...</td>\n",
              "      <td>-0.7299</td>\n",
              "      <td>0.095</td>\n",
              "      <td>0.867</td>\n",
              "      <td>0.038</td>\n",
              "      <td>-1</td>\n",
              "    </tr>\n",
              "    <tr>\n",
              "      <th>3</th>\n",
              "      <td>Breitbart, One America Network, Washington Tim...</td>\n",
              "      <td>-0.6705</td>\n",
              "      <td>0.143</td>\n",
              "      <td>0.857</td>\n",
              "      <td>0.000</td>\n",
              "      <td>-1</td>\n",
              "    </tr>\n",
              "    <tr>\n",
              "      <th>4</th>\n",
              "      <td>&gt; \"You give us $15, and we’ll send six America...</td>\n",
              "      <td>0.3400</td>\n",
              "      <td>0.080</td>\n",
              "      <td>0.788</td>\n",
              "      <td>0.132</td>\n",
              "      <td>1</td>\n",
              "    </tr>\n",
              "  </tbody>\n",
              "</table>\n",
              "</div>"
            ],
            "text/plain": [
              "                                             comment  compound    neg    neu  \\\n",
              "0  > \"I did try and fuck her. She was married… I ...    0.9746  0.061  0.697   \n",
              "1  Remember too that the campaign revised the GOP...    0.0000  0.000  1.000   \n",
              "2  Next press conference. \\n\\nMedia outlet called...   -0.7299  0.095  0.867   \n",
              "3  Breitbart, One America Network, Washington Tim...   -0.6705  0.143  0.857   \n",
              "4  > \"You give us $15, and we’ll send six America...    0.3400  0.080  0.788   \n",
              "\n",
              "     pos  label  \n",
              "0  0.242      1  \n",
              "1  0.000      0  \n",
              "2  0.038     -1  \n",
              "3  0.000     -1  \n",
              "4  0.132      1  "
            ]
          },
          "metadata": {
            "tags": []
          },
          "execution_count": 40
        }
      ]
    },
    {
      "metadata": {
        "id": "YRDL3RmmQBLb",
        "colab_type": "code",
        "outputId": "0e5765b4-404f-4892-b03f-baf7824b10a0",
        "colab": {
          "base_uri": "https://localhost:8080/",
          "height": 910
        }
      },
      "cell_type": "code",
      "source": [
        "df_comments_labeled = df_comments[['comment', 'label']]\n",
        "df_titles_labeled.to_csv('reddit_comments_labels.csv', mode='a', encoding='utf-8', index=False)\n",
        "\n",
        "print(\"Positive comments:\\n\")\n",
        "pprint(list(df_titles[df_titles['label'] == 1].title)[:3], width=200)\n",
        "\n",
        "print(\"\\nNegative comments:\\n\")\n",
        "pprint(list(df_titles[df_titles['label'] == -1].title)[:3], width=200)"
      ],
      "execution_count": 0,
      "outputs": [
        {
          "output_type": "stream",
          "text": [
            "Positive comments:\n",
            "\n",
            "['> \"I did try and fuck her. She was married… I moved on her like a bitch, but I couldn\\'t get there. And she was married. Then all of a sudden I see her, she\\'s not got the big phony tits and '\n",
            " \"everything... I've got to use some Tic-Tacs, just in case I start kissing her. You know I'm automatically attracted to beautiful. I just start kissing them. It's like a magnet. Just kiss. I don't \"\n",
            " 'even wait. And when you\\'re a star, they let you do it. You can do anything. Grab them by the pussy. You can do anything.\"',\n",
            " '> \"You give us $15, and we’ll send six America-saving surprises right to your doorstep,\" the company said. \"It will be fun, it will be weird, and if you voted for Trump, you might want to sit this '\n",
            " 'one out.\"\\n'\n",
            " '\\n'\n",
            " 'Oh shit. I bet I know what they are doing. They are selling ownership of this land - or shares of it. \\n'\n",
            " '\\n',\n",
            " '*[In a 2004 interview, Trump told CNN\\'s Wolf Blitzer: \"In many cases, I probably identify more as Democrat,\" explaining: \"It just seems that the economy does better under the Democrats than the '\n",
            " \"Republicans. Now, it shouldn't be that way. But if you go back, I mean it just seems that the economy does better under the Democrats [...] But certainly we had some very good economies under \"\n",
            " 'Democrats, as well as Republicans. But we\\'ve had some pretty bad disaster under the Republicans.\"](https://en.wikipedia.org/wiki/Political_positions_of_Donald_Trump#Self-described)*']\n",
            "\n",
            "Negative comments:\n",
            "\n",
            "['Next press conference. \\n'\n",
            " '\\n'\n",
            " 'Media outlet called on\\n'\n",
            " \">You recently shared a video doctored to make it appear one of my colleagues did something he didn't. You constantly share altered transcripts of events that do not match the videos of these \"\n",
            " 'events. At what point should we consider press releases from the Whitehouse propaganda and not factual information?\\n'\n",
            " '\\n'\n",
            " 'SHS\\n'\n",
            " '>Some bullshit answer\\n'\n",
            " '\\n'\n",
            " 'Next media outlet called on\\n'\n",
            " \">You recently shared a video doctored to make it appear one of my colleagues did something he didn't. You constantly share altered transcripts of events that do not match the videos of these \"\n",
            " 'events. At what point should we consider press releases from the Whitehouse propaganda and not factual information?\\n'\n",
            " '\\n'\n",
            " 'Ad infinitum',\n",
            " \"Breitbart, One America Network, Washington Times in attendence at Spicer's off-camera gaggle.\\n\"\n",
            " '\\n'\n",
            " 'https://twitter.com/Noahbierman/status/835197971562115072\\n'\n",
            " 'https://twitter.com/Carrasquillo/status/835197757803593728\\n'\n",
            " '\\n'\n",
            " 'CNN, NY Times, LA Times, Buzzfeed, Politico kept out.\\n'\n",
            " '\\n'\n",
            " 'https://twitter.com/Carrasquillo/status/835198292225110017\\n'\n",
            " '\\n'\n",
            " 'WH Correspondents Association protesting\\n'\n",
            " '\\n'\n",
            " 'https://twitter.com/Carrasquillo/status/835199630744961024\\n'\n",
            " '\\n'\n",
            " 'AP & Time boycotted the gaggle.\\n'\n",
            " '\\n'\n",
            " 'https://twitter.com/Carrasquillo/status/835199440898125824',\n",
            " '>Davis, also a former intern of Milo Yiannopoulos,\\xa0killed his father last July\\xa0after accusing his father of being a pedophile, according to his mother in a harrowing 9-1-1 call.\\n'\n",
            " '\\n'\n",
            " '>“He’s mad about something on the internet about leftist pedophiles and he thinks we’re leftist and he’s calling us pedophiles. And I don’t know what all,” Davis’ mother Catherine told the '\n",
            " 'operator.\\n'\n",
            " '\\n'\n",
            " 'Unreal \\n']\n"
          ],
          "name": "stdout"
        }
      ]
    },
    {
      "metadata": {
        "id": "GzCO-qA2QYoo",
        "colab_type": "code",
        "outputId": "671e3be6-88fe-4210-ddf8-72b6cc0dd33b",
        "colab": {
          "base_uri": "https://localhost:8080/",
          "height": 151
        }
      },
      "cell_type": "code",
      "source": [
        "print(df_comments.label.value_counts())\n",
        "\n",
        "print(df_comments.label.value_counts(normalize=True) * 100)"
      ],
      "execution_count": 0,
      "outputs": [
        {
          "output_type": "stream",
          "text": [
            " 1    34\n",
            "-1    32\n",
            " 0    31\n",
            "Name: label, dtype: int64\n",
            " 1    35.051546\n",
            "-1    32.989691\n",
            " 0    31.958763\n",
            "Name: label, dtype: float64\n"
          ],
          "name": "stdout"
        }
      ]
    },
    {
      "metadata": {
        "id": "617RHe9dQzte",
        "colab_type": "text"
      },
      "cell_type": "markdown",
      "source": [
        "Interestingly, there seems to be a much more even distribution of polarity of the top 100 posts' top comments than top post titles."
      ]
    },
    {
      "metadata": {
        "id": "XZ8-7cJAQkXj",
        "colab_type": "code",
        "outputId": "a2cfe4bd-e877-4fc7-ec9b-17d58cf010ba",
        "colab": {
          "base_uri": "https://localhost:8080/",
          "height": 491
        }
      },
      "cell_type": "code",
      "source": [
        "fig, ax = plt.subplots(figsize=(8, 8))\n",
        "\n",
        "counts = df_comments.label.value_counts(normalize=True) * 100\n",
        "\n",
        "sns.barplot(x=counts.index, y=counts, ax=ax)\n",
        "\n",
        "ax.set_xticklabels(['Negative', 'Neutral', 'Positive'])\n",
        "ax.set_ylabel(\"Percentage\")\n",
        "\n",
        "plt.show()"
      ],
      "execution_count": 0,
      "outputs": [
        {
          "output_type": "display_data",
          "data": {
            "image/png": "[encoded data removed]",
            "text/plain": [
              "<matplotlib.figure.Figure at 0x7fb84529fcf8>"
            ]
          },
          "metadata": {
            "tags": []
          }
        }
      ]
    }
  ]
}